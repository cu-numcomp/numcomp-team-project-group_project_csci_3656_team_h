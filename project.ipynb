{
 "cells": [
  {
   "cell_type": "markdown",
   "metadata": {},
   "source": [
    "# Project: **Name of method** in **name of software**\n",
    "\n",
    "## Group members\n",
    "* Evan Ram\n",
    "* Prateek Makhija\n",
    "* James Douthit\n",
    "* Garrett Hempy"
   ]
  },
  {
   "cell_type": "code",
   "execution_count": 5,
   "metadata": {},
   "outputs": [
    {
     "name": "stdout",
     "output_type": "stream",
     "text": [
      "Evaluating RMSE, MAE of algorithm SVD on 5 split(s).\n",
      "\n",
      "                  Fold 1  Fold 2  Fold 3  Fold 4  Fold 5  Mean    Std     \n",
      "RMSE (testset)    0.9346  0.9367  0.9334  0.9359  0.9360  0.9353  0.0012  \n",
      "MAE (testset)     0.7373  0.7375  0.7360  0.7405  0.7360  0.7374  0.0017  \n",
      "Fit time          8.38    8.86    8.59    11.95   10.03   9.56    1.32    \n",
      "Test time         0.31    0.27    0.15    0.22    0.25    0.24    0.05    \n"
     ]
    },
    {
     "data": {
      "text/plain": [
       "{'test_rmse': array([0.9346242 , 0.93673523, 0.93343799, 0.93585861, 0.93595165]),\n",
       " 'test_mae': array([0.73730781, 0.73747963, 0.73595917, 0.74048213, 0.73595051]),\n",
       " 'fit_time': (8.382859945297241,\n",
       "  8.863884925842285,\n",
       "  8.585025072097778,\n",
       "  11.951292991638184,\n",
       "  10.025717973709106),\n",
       " 'test_time': (0.31299495697021484,\n",
       "  0.26954102516174316,\n",
       "  0.1534430980682373,\n",
       "  0.224653959274292,\n",
       "  0.24697613716125488)}"
      ]
     },
     "execution_count": 5,
     "metadata": {},
     "output_type": "execute_result"
    }
   ],
   "source": [
    "from surprise import SVD\n",
    "from surprise import Dataset\n",
    "from surprise.model_selection import cross_validate\n",
    "\n",
    "# Load the movielens-100k dataset (download it if needed).\n",
    "data = Dataset.load_builtin('ml-100k')\n",
    "\n",
    "# Use the famous SVD algorithm.\n",
    "algo = SVD()\n",
    "\n",
    "# Run 5-fold cross-validation and print results.\n",
    "cross_validate(algo, data, measures=['RMSE', 'MAE'], cv=5, verbose=True)"
   ]
  },
  {
   "cell_type": "code",
   "execution_count": 28,
   "metadata": {},
   "outputs": [
    {
     "name": "stdout",
     "output_type": "stream",
     "text": [
      "(1649, 100)\n",
      "----\n",
      "(943, 100)\n"
     ]
    },
    {
     "data": {
      "text/plain": [
       "array([[ 0.13039749,  0.26487437,  0.22141759, ..., -0.28370836,\n",
       "        -0.16972448, -0.11147935],\n",
       "       [ 0.08291975, -0.03424818, -0.12960276, ..., -0.07229186,\n",
       "        -0.06136176, -0.03743559],\n",
       "       [-0.09189772, -0.11856658,  0.16122016, ...,  0.02098331,\n",
       "         0.14363769,  0.0826097 ],\n",
       "       ...,\n",
       "       [-0.09265819,  0.14323707, -0.0929847 , ...,  0.06000343,\n",
       "         0.08067312, -0.1082309 ],\n",
       "       [-0.04495284, -0.12490508,  0.01894231, ..., -0.1111712 ,\n",
       "        -0.02662826, -0.07482861],\n",
       "       [ 0.09216576, -0.08962411,  0.02527424, ..., -0.08890828,\n",
       "        -0.02026102, -0.05911236]])"
      ]
     },
     "execution_count": 28,
     "metadata": {},
     "output_type": "execute_result"
    }
   ],
   "source": [
    "# print(algo.trainset.build_testset()[:100])\n",
    "\n",
    "print(algo.qi.shape)\n",
    "print('----')\n",
    "print(algo.pu.shape)\n",
    "\n",
    "algo.pu\n"
   ]
  },
  {
   "cell_type": "markdown",
   "metadata": {},
   "source": [
    "The following prompts may be useful, but you don't have to use them.\n",
    "\n",
    "## Introduction\n",
    "\n",
    "Describe the objective of your study, citing prior work as appropriate (papers, websites, etc.).  There is no requirement on citation style, but please try to be consistent.\n",
    "\n",
    "## Methods\n",
    "\n",
    "## Results and interpretation\n",
    "\n",
    "## Conclusions and open questions"
   ]
  }
 ],
 "metadata": {
  "kernelspec": {
   "display_name": "Python 3",
   "language": "python",
   "name": "python3"
  },
  "language_info": {
   "codemirror_mode": {
    "name": "ipython",
    "version": 3
   },
   "file_extension": ".py",
   "mimetype": "text/x-python",
   "name": "python",
   "nbconvert_exporter": "python",
   "pygments_lexer": "ipython3",
   "version": "3.7.3"
  }
 },
 "nbformat": 4,
 "nbformat_minor": 4
}
