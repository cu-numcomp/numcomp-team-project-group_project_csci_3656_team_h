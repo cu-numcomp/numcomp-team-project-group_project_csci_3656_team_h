{
 "cells": [
  {
   "cell_type": "markdown",
   "metadata": {},
   "source": [
    "# **SVD Comparisons (new C++20 library vs. numpy.linalg.svd)**\n",
    "\n",
    "## Team H\n",
    "* Evan Ram\n",
    "* Prateek Makhija\n",
    "* James Douthit\n",
    "* Garrett Hempy"
   ]
  },
  {
   "cell_type": "code",
   "execution_count": 20,
   "metadata": {},
   "outputs": [
    {
     "name": "stdout",
     "output_type": "stream",
     "text": [
      "Sending build context to Docker daemon  523.8kB\n",
      "Step 1/5 : FROM gcc:latest\n",
      " ---> 2f9778ee181e\n",
      "Step 2/5 : COPY ./fengwang-matrix /app\n",
      " ---> Using cache\n",
      " ---> 4e24d0319140\n",
      "Step 3/5 : WORKDIR /app\n",
      " ---> Using cache\n",
      " ---> e46c9ec23f6d\n",
      "Step 4/5 : RUN make\n",
      " ---> Using cache\n",
      " ---> 47e041eaf6c7\n",
      "Step 5/5 : CMD [\"./svdimage\"]\n",
      " ---> Using cache\n",
      " ---> f438136b473b\n",
      "Successfully built f438136b473b\n",
      "['SVD Image Program', '']\n"
     ]
    }
   ],
   "source": [
    "class FengwangSVDTester:\n",
    "    \n",
    "    @staticmethod\n",
    "    def build():\n",
    "        \"\"\"\n",
    "        Builds the Fengwang Matrix library SVD tester using Docker.\n",
    "\n",
    "        New C++20 features are not available on many machines,\n",
    "        so please have Docker installed.\n",
    "        \"\"\"\n",
    "\n",
    "        # Use bang command in Jupyter notebook since we don't care about this command's output\n",
    "        !docker build .\n",
    "        \n",
    "        # Technically we don't run any Python in this method\n",
    "        pass\n",
    "\n",
    "    def run(self):\n",
    "        \"\"\"\n",
    "        Runs the C++ test program for the fengwang/matrix library.\n",
    "        Returns its command line output as a list of lines from stdout.\n",
    "\n",
    "        Not using bang command b/c we want to process the output to get timings.\n",
    "        Timing from the start of this method to the end of it is pointless since\n",
    "        it includes overhead of process creation.\n",
    "        \"\"\"\n",
    "\n",
    "        import subprocess\n",
    "        cmd = 'docker run -t fengwang-matrix-svd'.split()\n",
    "        proc_out = subprocess.check_output(cmd)\n",
    "        self._output = proc_out.decode('utf-8').split('\\r\\n')\n",
    "    \n",
    "    @property\n",
    "    def output(self):\n",
    "        if not hasattr(self, '_output'):\n",
    "            raise Exception('Please call run() first')\n",
    "        return self._output\n",
    "\n",
    "# Build executable before we can run it\n",
    "FengwangSVDTester.build()\n",
    "\n",
    "fw_svd = FengwangSVDTester()\n",
    "fw_svd.run()\n",
    "print(fw_svd.output)"
   ]
  },
  {
   "cell_type": "markdown",
   "metadata": {},
   "source": [
    "The following prompts may be useful, but you don't have to use them.\n",
    "\n",
    "## Introduction\n",
    "\n",
    "Describe the objective of your study, citing prior work as appropriate (papers, websites, etc.).  There is no requirement on citation style, but please try to be consistent.\n",
    "\n",
    "## Methods\n",
    "\n",
    "## Results and interpretation\n",
    "\n",
    "## Conclusions and open questions"
   ]
  }
 ],
 "metadata": {
  "kernelspec": {
   "display_name": "Python 3",
   "language": "python",
   "name": "python3"
  },
  "language_info": {
   "codemirror_mode": {
    "name": "ipython",
    "version": 3
   },
   "file_extension": ".py",
   "mimetype": "text/x-python",
   "name": "python",
   "nbconvert_exporter": "python",
   "pygments_lexer": "ipython3",
   "version": "3.7.3"
  }
 },
 "nbformat": 4,
 "nbformat_minor": 4
}
