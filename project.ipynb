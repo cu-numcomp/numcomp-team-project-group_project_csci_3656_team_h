{
 "cells": [
  {
   "cell_type": "markdown",
   "metadata": {},
   "source": [
    "# **SVD Comparisons (new C++20 library vs. numpy.linalg.svd)**\n",
    "\n",
    "## Team H\n",
    "* Evan Ram\n",
    "* Prateek Makhija\n",
    "* James Douthit\n",
    "* Garrett Hempy"
   ]
  },
  {
   "cell_type": "markdown",
   "metadata": {},
   "source": [
    "## Introduction / methods\n",
    "\n",
    "// todo\n",
    "\n",
    "## Dependencies\n",
    "\n",
    "We use a new library called Matrix written in C++20 (the C++20 language version should be finalized later this month). It is written by Feng Wang and can be found [here](https://github.com/fengwang/matrix). The library is distributed as a huge single header file (see `./fengwang-matrix/matrix.hpp`).\n",
    "\n",
    "We also depend on `numpy` for matrix stuff in Python and `pillow` (Python image processing library) for loading in the C++ library's exported matrices (which can be serialized to bitmap image files)."
   ]
  },
  {
   "cell_type": "code",
   "execution_count": null,
   "metadata": {},
   "outputs": [],
   "source": [
    "!{sys.executable} -m pip install numpy\n",
    "!{sys.executable} -m pip install pillow"
   ]
  },
  {
   "cell_type": "markdown",
   "metadata": {},
   "source": [
    "Feng Wang's Matrix library is difficult to compile on non-linux machines because of the new C++20 supporting compilers, so we require [Docker](https://www.docker.com/) to be installed in order to compile and run our driver code.\n",
    "\n",
    "The below `FengWangSVD` class will run the Docker commands for us so we can test its SVD implementation directly from Python."
   ]
  },
  {
   "cell_type": "code",
   "execution_count": 7,
   "metadata": {},
   "outputs": [],
   "source": [
    "import sys\n",
    "import numpy as np\n",
    "import os\n",
    "import subprocess\n",
    "from PIL import Image\n",
    "\n",
    "class FengWangSVD:\n",
    "\n",
    "    def __init__(self, A):\n",
    "        \"\"\"\n",
    "        `A` should be a 2d numpy array\n",
    "        \"\"\"\n",
    "        \n",
    "        self._A = A\n",
    "    \n",
    "    @staticmethod\n",
    "    def build():\n",
    "        \"\"\"\n",
    "        Builds Feng Wang's Matrix library SVD tester using Docker.\n",
    "\n",
    "        New C++20 features are not available on many machines,\n",
    "        so please have Docker installed.\n",
    "        \"\"\"\n",
    "\n",
    "        # Use bang command in Jupyter notebook since we don't care about this command's output\n",
    "        !docker build -t fengwang-matrix-svd .\n",
    "        \n",
    "        # Technically we don't run any Python in this method\n",
    "        pass\n",
    "\n",
    "    def run(self):\n",
    "        \"\"\"\n",
    "        Runs the C++ test program for the fengwang/matrix library.\n",
    "        Returns its command line output as a list of lines from stdout.\n",
    "\n",
    "        Not using bang command b/c we want to process the output to get timings.\n",
    "        Timing from the start of this method to the end of it is pointless since\n",
    "        it includes overhead of process creation.\n",
    "        \"\"\"\n",
    "\n",
    "        self._write_matrix()\n",
    "        cmd = f'docker run -v {self._program_io_path()}:/program_io fengwang-matrix-svd'.split()\n",
    "        proc_out = subprocess.check_output(cmd)\n",
    "        lines = proc_out.decode('utf-8').split('\\n')\n",
    "        self._read_stats(lines)\n",
    "        self._read_matrices()\n",
    "    \n",
    "    @property\n",
    "    def stats(self):\n",
    "        \"\"\"\n",
    "        A dict containing the stat results from running the program.\n",
    "        \"\"\"\n",
    "\n",
    "        if not hasattr(self, '_stats'):\n",
    "            raise Exception('Please call run() first')\n",
    "\n",
    "        return self._stats\n",
    "    \n",
    "    def _program_io_path(self):\n",
    "        path = os.path.join(os.getcwd(), 'fengwang-matrix/program_io')\n",
    "        if not os.path.exists(path):\n",
    "            os.makedirs(path)\n",
    "        return path\n",
    "    \n",
    "    def _write_matrix(self):\n",
    "        \"\"\"\n",
    "        Write matrix A as input data to the program.\n",
    "        \"\"\"\n",
    "        \n",
    "        path = os.path.join(self._program_io_path(), 'input.npy')\n",
    "        with open(path, 'wb') as f:\n",
    "            np.save(f, self._A)\n",
    "    \n",
    "    def _read_stats(self, stdout_lines):\n",
    "        \"\"\"\n",
    "        Parse stdout for key/value pairs and assign it to self._stats\n",
    "        \"\"\"\n",
    "        \n",
    "        stats = {}\n",
    "        start_processing = False\n",
    "        \n",
    "        for i, line in enumerate(stdout_lines):\n",
    "            # Most lines end with carriage return '\\r' for some reason\n",
    "            line = line.strip()\n",
    "            \n",
    "            if line == '!!BEGIN-STATS!!':\n",
    "                # Title of program (sanity check that it starts up)\n",
    "                start_processing = True\n",
    "                continue\n",
    "            elif not start_processing:\n",
    "                # Program spits out diagnostic data on `load_npy`, cant seem to disable it...\n",
    "                continue\n",
    "    \n",
    "            if len(line) == 0:\n",
    "                # Blank line\n",
    "                continue\n",
    "        \n",
    "            [k, v] = line.split(':=', 1)\n",
    "            k = k.lower().strip()\n",
    "            v = v.strip()\n",
    "            \n",
    "            # Output numbers should all be integers, to avoid differences in\n",
    "            # floating point arithmetic between Python and C++ tests\n",
    "            if v.isdigit():\n",
    "                v = int(v)\n",
    "                \n",
    "            stats[k] = v\n",
    "            \n",
    "        self._stats = stats\n",
    "        \n",
    "    def _read_matrices(self):\n",
    "        \"\"\"\n",
    "        Read in the matrices from the generated .bmp files the program created.\n",
    "        Will populate self.{U, S, V, A_prime}\n",
    "        \"\"\"\n",
    "        \n",
    "        matrices = ['U', 'S', 'V', 'A_prime']\n",
    "        \n",
    "        for m in matrices:\n",
    "            path = os.path.join(self._program_io_path(), m + '.bmp')\n",
    "            img = Image.open(path).convert('L') # 'L' for grayscale ... weird const but ok\n",
    "            \n",
    "            # Rescale b/c the .bmp format maps 0.0-1.0 onto integers 0-255\n",
    "            setattr(self, m, np.array(img) / 255)"
   ]
  },
  {
   "cell_type": "markdown",
   "metadata": {},
   "source": [
    "Run the next cell to build the C++ driver code that builds our driver executable for Feng Wang's Matrix SVD function."
   ]
  },
  {
   "cell_type": "code",
   "execution_count": 22,
   "metadata": {},
   "outputs": [
    {
     "name": "stdout",
     "output_type": "stream",
     "text": [
      "Sending build context to Docker daemon    852kB\n",
      "Step 1/5 : FROM gcc:latest\n",
      " ---> 2f9778ee181e\n",
      "Step 2/5 : COPY ./fengwang-matrix /app\n",
      " ---> 2977eae962e0\n",
      "Step 3/5 : WORKDIR /app\n",
      " ---> Running in 4d2fefe930a6\n",
      "Removing intermediate container 4d2fefe930a6\n",
      " ---> e43542da5601\n",
      "Step 4/5 : RUN make\n",
      " ---> Running in c4e3df7248ba\n",
      "g++ -std=c++2a -Wall -Wextra -O2 -pthread -o svdimage main.cpp -lstdc++fs\n",
      "Removing intermediate container c4e3df7248ba\n",
      " ---> a72cb2b982a3\n",
      "Step 5/5 : CMD [\"./svdimage\"]\n",
      " ---> Running in f0e3e98d5474\n",
      "Removing intermediate container f0e3e98d5474\n",
      " ---> d10624dffb5a\n",
      "Successfully built d10624dffb5a\n",
      "Successfully tagged fengwang-matrix-svd:latest\n"
     ]
    }
   ],
   "source": [
    "FengWangSVD.build()"
   ]
  },
  {
   "cell_type": "markdown",
   "metadata": {},
   "source": [
    "Let's just see it working real quick."
   ]
  },
  {
   "cell_type": "code",
   "execution_count": 26,
   "metadata": {},
   "outputs": [
    {
     "name": "stdout",
     "output_type": "stream",
     "text": [
      "Time to run SVD algo: 28051μs\n",
      "\n",
      "Time to construct A' (U x S x V^T): 1703μs\n",
      "\n",
      "Residuals between A and the product U x S x V^T\n",
      "[[0.36477509 0.89807084 0.7337559  ... 0.71769889 0.5381907  0.17403427]\n",
      " [0.1653281  0.1707974  0.39098358 ... 0.68588986 0.66650473 0.21615966]\n",
      " [0.13831298 0.58688824 0.83848003 ... 0.86291946 0.57550277 0.50883232]\n",
      " ...\n",
      " [0.86176018 0.65443783 0.13561682 ... 0.5389588  0.27595597 0.24165883]\n",
      " [0.76069382 1.05043579 0.63956324 ... 0.92611838 1.1059393  0.59858114]\n",
      " [0.54872033 0.43613208 0.4618965  ... 0.51274831 0.94788842 0.03744726]]\n",
      "\n",
      "Residuals between A and A' (reconstructed matrix from Feng Wang's SVD)\n",
      "[[0.00343328 0.00277019 0.00066829 ... 0.00200318 0.00137216 0.00120632]\n",
      " [0.0017607  0.0014698  0.00334747 ... 0.00016627 0.00090162 0.00068852]\n",
      " [0.00232783 0.0030515  0.00026181 ... 0.00285753 0.00059867 0.00024627]\n",
      " ...\n",
      " [0.0004381  0.00081573 0.00128166 ... 0.00365857 0.00194601 0.00158131]\n",
      " [0.00012939 0.00090477 0.00384661 ... 0.00086427 0.00319604 0.00257124]\n",
      " [0.00015056 0.00024765 0.00094256 ... 0.0028292  0.00317257 0.00138426]]\n"
     ]
    }
   ],
   "source": [
    "A = np.random.rand(100, 100)\n",
    "fw_svd = FengWangSVD(A)\n",
    "fw_svd.run()\n",
    "\n",
    "print(f'Time to run SVD algo: {fw_svd.stats[\"performance-svd-us\"]}μs')\n",
    "print(f'\\nTime to construct A\\' (U x S x V^T): {fw_svd.stats[\"performance-aprime-us\"]}μs')\n",
    "\n",
    "# Fairly large residuals (numerical error in .bmp format limitations)\n",
    "print('\\nResiduals between A and the product U x S x V^T')\n",
    "print(abs(A - fw_svd.U @ fw_svd.S @ fw_svd.V.T))\n",
    "\n",
    "# Smaller residuals\n",
    "print('\\nResiduals between A and A\\' (reconstructed matrix from Feng Wang\\'s SVD)')\n",
    "print(abs(A - fw_svd.A_prime))"
   ]
  },
  {
   "cell_type": "markdown",
   "metadata": {},
   "source": [
    "## Breaking it\n",
    "\n",
    "//todo\n",
    "The product of the {U,S,V}.bmp exported matrices loses a lot of precision unless we get the UxSxV^T product before dumping to bmp (A_prime.bmp). Also note the bug where an integer matrix crashes the library's loader code\n",
    "\n",
    "## Comparison with np.linalg.svd\n",
    "\n",
    "// todo: run test of same matrices and timings for numpy's svd"
   ]
  },
  {
   "cell_type": "markdown",
   "metadata": {},
   "source": [
    "## Results and interpretation\n",
    "\n",
    "## Conclusions and open questions"
   ]
  },
  {
   "cell_type": "code",
   "execution_count": null,
   "metadata": {},
   "outputs": [],
   "source": []
  }
 ],
 "metadata": {
  "kernelspec": {
   "display_name": "Python 3",
   "language": "python",
   "name": "python3"
  },
  "language_info": {
   "codemirror_mode": {
    "name": "ipython",
    "version": 3
   },
   "file_extension": ".py",
   "mimetype": "text/x-python",
   "name": "python",
   "nbconvert_exporter": "python",
   "pygments_lexer": "ipython3",
   "version": "3.7.3"
  }
 },
 "nbformat": 4,
 "nbformat_minor": 4
}
